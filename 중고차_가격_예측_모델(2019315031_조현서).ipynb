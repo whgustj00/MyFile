{
  "nbformat": 4,
  "nbformat_minor": 0,
  "metadata": {
    "colab": {
      "provenance": [],
      "include_colab_link": true
    },
    "kernelspec": {
      "name": "python3",
      "display_name": "Python 3"
    },
    "language_info": {
      "name": "python"
    }
  },
  "cells": [
    {
      "cell_type": "markdown",
      "metadata": {
        "id": "view-in-github",
        "colab_type": "text"
      },
      "source": [
        "<a href=\"https://colab.research.google.com/github/whgustj00/MyFile/blob/main/%EC%A4%91%EA%B3%A0%EC%B0%A8_%EA%B0%80%EA%B2%A9_%EC%98%88%EC%B8%A1_%EB%AA%A8%EB%8D%B8(2019315031_%EC%A1%B0%ED%98%84%EC%84%9C).ipynb\" target=\"_parent\"><img src=\"https://colab.research.google.com/assets/colab-badge.svg\" alt=\"Open In Colab\"/></a>"
      ]
    },
    {
      "cell_type": "code",
      "execution_count": null,
      "metadata": {
        "id": "lv3IMKplsLCE"
      },
      "outputs": [],
      "source": [
        "# 필요한 패키지 설치\n",
        "import pandas as pd\n",
        "import numpy as np\n",
        "import seaborn as sns\n",
        "from sklearn.model_selection import train_test_split\n",
        "from sklearn.linear_model import LinearRegression\n",
        "from sklearn.metrics import mean_squared_error, r2_score\n",
        "import matplotlib.pyplot as plt"
      ]
    },
    {
      "cell_type": "code",
      "source": [
        "from google.colab import drive\n",
        "drive.mount('/content/drive')"
      ],
      "metadata": {
        "colab": {
          "base_uri": "https://localhost:8080/"
        },
        "id": "AcypCbJ_jQwW",
        "outputId": "90b78b59-6678-4853-e8f2-eb6dc8c5ee56"
      },
      "execution_count": null,
      "outputs": [
        {
          "output_type": "stream",
          "name": "stdout",
          "text": [
            "Drive already mounted at /content/drive; to attempt to forcibly remount, call drive.mount(\"/content/drive\", force_remount=True).\n"
          ]
        }
      ]
    },
    {
      "cell_type": "markdown",
      "source": [
        "필요한 패키지들을 설치 및 임포트한다"
      ],
      "metadata": {
        "id": "b73geB-ruWuw"
      }
    },
    {
      "cell_type": "code",
      "source": [
        "# 데이터 불러오기\n",
        "# https://www.kaggle.com/datasets/vijayaadithyanvg/car-price-predictionused-cars\n",
        "data = pd.read_csv('/content/drive/MyDrive/car data.csv')\n",
        "data"
      ],
      "metadata": {
        "colab": {
          "base_uri": "https://localhost:8080/",
          "height": 424
        },
        "id": "2UhtPiQTsMwS",
        "outputId": "8a832f6d-d735-4d97-a33c-94e6895883cf"
      },
      "execution_count": null,
      "outputs": [
        {
          "output_type": "execute_result",
          "data": {
            "text/plain": [
              "    Car_Name  Year  Selling_Price  Present_Price  Driven_kms Fuel_Type  \\\n",
              "0       ritz  2014           3.35           5.59       27000    Petrol   \n",
              "1        sx4  2013           4.75           9.54       43000    Diesel   \n",
              "2       ciaz  2017           7.25           9.85        6900    Petrol   \n",
              "3    wagon r  2011           2.85           4.15        5200    Petrol   \n",
              "4      swift  2014           4.60           6.87       42450    Diesel   \n",
              "..       ...   ...            ...            ...         ...       ...   \n",
              "296     city  2016           9.50          11.60       33988    Diesel   \n",
              "297     brio  2015           4.00           5.90       60000    Petrol   \n",
              "298     city  2009           3.35          11.00       87934    Petrol   \n",
              "299     city  2017          11.50          12.50        9000    Diesel   \n",
              "300     brio  2016           5.30           5.90        5464    Petrol   \n",
              "\n",
              "    Selling_type Transmission  Owner  \n",
              "0         Dealer       Manual      0  \n",
              "1         Dealer       Manual      0  \n",
              "2         Dealer       Manual      0  \n",
              "3         Dealer       Manual      0  \n",
              "4         Dealer       Manual      0  \n",
              "..           ...          ...    ...  \n",
              "296       Dealer       Manual      0  \n",
              "297       Dealer       Manual      0  \n",
              "298       Dealer       Manual      0  \n",
              "299       Dealer       Manual      0  \n",
              "300       Dealer       Manual      0  \n",
              "\n",
              "[301 rows x 9 columns]"
            ],
            "text/html": [
              "\n",
              "  <div id=\"df-cbbeeda9-1ca9-4909-834d-6128b4515c71\">\n",
              "    <div class=\"colab-df-container\">\n",
              "      <div>\n",
              "<style scoped>\n",
              "    .dataframe tbody tr th:only-of-type {\n",
              "        vertical-align: middle;\n",
              "    }\n",
              "\n",
              "    .dataframe tbody tr th {\n",
              "        vertical-align: top;\n",
              "    }\n",
              "\n",
              "    .dataframe thead th {\n",
              "        text-align: right;\n",
              "    }\n",
              "</style>\n",
              "<table border=\"1\" class=\"dataframe\">\n",
              "  <thead>\n",
              "    <tr style=\"text-align: right;\">\n",
              "      <th></th>\n",
              "      <th>Car_Name</th>\n",
              "      <th>Year</th>\n",
              "      <th>Selling_Price</th>\n",
              "      <th>Present_Price</th>\n",
              "      <th>Driven_kms</th>\n",
              "      <th>Fuel_Type</th>\n",
              "      <th>Selling_type</th>\n",
              "      <th>Transmission</th>\n",
              "      <th>Owner</th>\n",
              "    </tr>\n",
              "  </thead>\n",
              "  <tbody>\n",
              "    <tr>\n",
              "      <th>0</th>\n",
              "      <td>ritz</td>\n",
              "      <td>2014</td>\n",
              "      <td>3.35</td>\n",
              "      <td>5.59</td>\n",
              "      <td>27000</td>\n",
              "      <td>Petrol</td>\n",
              "      <td>Dealer</td>\n",
              "      <td>Manual</td>\n",
              "      <td>0</td>\n",
              "    </tr>\n",
              "    <tr>\n",
              "      <th>1</th>\n",
              "      <td>sx4</td>\n",
              "      <td>2013</td>\n",
              "      <td>4.75</td>\n",
              "      <td>9.54</td>\n",
              "      <td>43000</td>\n",
              "      <td>Diesel</td>\n",
              "      <td>Dealer</td>\n",
              "      <td>Manual</td>\n",
              "      <td>0</td>\n",
              "    </tr>\n",
              "    <tr>\n",
              "      <th>2</th>\n",
              "      <td>ciaz</td>\n",
              "      <td>2017</td>\n",
              "      <td>7.25</td>\n",
              "      <td>9.85</td>\n",
              "      <td>6900</td>\n",
              "      <td>Petrol</td>\n",
              "      <td>Dealer</td>\n",
              "      <td>Manual</td>\n",
              "      <td>0</td>\n",
              "    </tr>\n",
              "    <tr>\n",
              "      <th>3</th>\n",
              "      <td>wagon r</td>\n",
              "      <td>2011</td>\n",
              "      <td>2.85</td>\n",
              "      <td>4.15</td>\n",
              "      <td>5200</td>\n",
              "      <td>Petrol</td>\n",
              "      <td>Dealer</td>\n",
              "      <td>Manual</td>\n",
              "      <td>0</td>\n",
              "    </tr>\n",
              "    <tr>\n",
              "      <th>4</th>\n",
              "      <td>swift</td>\n",
              "      <td>2014</td>\n",
              "      <td>4.60</td>\n",
              "      <td>6.87</td>\n",
              "      <td>42450</td>\n",
              "      <td>Diesel</td>\n",
              "      <td>Dealer</td>\n",
              "      <td>Manual</td>\n",
              "      <td>0</td>\n",
              "    </tr>\n",
              "    <tr>\n",
              "      <th>...</th>\n",
              "      <td>...</td>\n",
              "      <td>...</td>\n",
              "      <td>...</td>\n",
              "      <td>...</td>\n",
              "      <td>...</td>\n",
              "      <td>...</td>\n",
              "      <td>...</td>\n",
              "      <td>...</td>\n",
              "      <td>...</td>\n",
              "    </tr>\n",
              "    <tr>\n",
              "      <th>296</th>\n",
              "      <td>city</td>\n",
              "      <td>2016</td>\n",
              "      <td>9.50</td>\n",
              "      <td>11.60</td>\n",
              "      <td>33988</td>\n",
              "      <td>Diesel</td>\n",
              "      <td>Dealer</td>\n",
              "      <td>Manual</td>\n",
              "      <td>0</td>\n",
              "    </tr>\n",
              "    <tr>\n",
              "      <th>297</th>\n",
              "      <td>brio</td>\n",
              "      <td>2015</td>\n",
              "      <td>4.00</td>\n",
              "      <td>5.90</td>\n",
              "      <td>60000</td>\n",
              "      <td>Petrol</td>\n",
              "      <td>Dealer</td>\n",
              "      <td>Manual</td>\n",
              "      <td>0</td>\n",
              "    </tr>\n",
              "    <tr>\n",
              "      <th>298</th>\n",
              "      <td>city</td>\n",
              "      <td>2009</td>\n",
              "      <td>3.35</td>\n",
              "      <td>11.00</td>\n",
              "      <td>87934</td>\n",
              "      <td>Petrol</td>\n",
              "      <td>Dealer</td>\n",
              "      <td>Manual</td>\n",
              "      <td>0</td>\n",
              "    </tr>\n",
              "    <tr>\n",
              "      <th>299</th>\n",
              "      <td>city</td>\n",
              "      <td>2017</td>\n",
              "      <td>11.50</td>\n",
              "      <td>12.50</td>\n",
              "      <td>9000</td>\n",
              "      <td>Diesel</td>\n",
              "      <td>Dealer</td>\n",
              "      <td>Manual</td>\n",
              "      <td>0</td>\n",
              "    </tr>\n",
              "    <tr>\n",
              "      <th>300</th>\n",
              "      <td>brio</td>\n",
              "      <td>2016</td>\n",
              "      <td>5.30</td>\n",
              "      <td>5.90</td>\n",
              "      <td>5464</td>\n",
              "      <td>Petrol</td>\n",
              "      <td>Dealer</td>\n",
              "      <td>Manual</td>\n",
              "      <td>0</td>\n",
              "    </tr>\n",
              "  </tbody>\n",
              "</table>\n",
              "<p>301 rows × 9 columns</p>\n",
              "</div>\n",
              "      <button class=\"colab-df-convert\" onclick=\"convertToInteractive('df-cbbeeda9-1ca9-4909-834d-6128b4515c71')\"\n",
              "              title=\"Convert this dataframe to an interactive table.\"\n",
              "              style=\"display:none;\">\n",
              "        \n",
              "  <svg xmlns=\"http://www.w3.org/2000/svg\" height=\"24px\"viewBox=\"0 0 24 24\"\n",
              "       width=\"24px\">\n",
              "    <path d=\"M0 0h24v24H0V0z\" fill=\"none\"/>\n",
              "    <path d=\"M18.56 5.44l.94 2.06.94-2.06 2.06-.94-2.06-.94-.94-2.06-.94 2.06-2.06.94zm-11 1L8.5 8.5l.94-2.06 2.06-.94-2.06-.94L8.5 2.5l-.94 2.06-2.06.94zm10 10l.94 2.06.94-2.06 2.06-.94-2.06-.94-.94-2.06-.94 2.06-2.06.94z\"/><path d=\"M17.41 7.96l-1.37-1.37c-.4-.4-.92-.59-1.43-.59-.52 0-1.04.2-1.43.59L10.3 9.45l-7.72 7.72c-.78.78-.78 2.05 0 2.83L4 21.41c.39.39.9.59 1.41.59.51 0 1.02-.2 1.41-.59l7.78-7.78 2.81-2.81c.8-.78.8-2.07 0-2.86zM5.41 20L4 18.59l7.72-7.72 1.47 1.35L5.41 20z\"/>\n",
              "  </svg>\n",
              "      </button>\n",
              "      \n",
              "  <style>\n",
              "    .colab-df-container {\n",
              "      display:flex;\n",
              "      flex-wrap:wrap;\n",
              "      gap: 12px;\n",
              "    }\n",
              "\n",
              "    .colab-df-convert {\n",
              "      background-color: #E8F0FE;\n",
              "      border: none;\n",
              "      border-radius: 50%;\n",
              "      cursor: pointer;\n",
              "      display: none;\n",
              "      fill: #1967D2;\n",
              "      height: 32px;\n",
              "      padding: 0 0 0 0;\n",
              "      width: 32px;\n",
              "    }\n",
              "\n",
              "    .colab-df-convert:hover {\n",
              "      background-color: #E2EBFA;\n",
              "      box-shadow: 0px 1px 2px rgba(60, 64, 67, 0.3), 0px 1px 3px 1px rgba(60, 64, 67, 0.15);\n",
              "      fill: #174EA6;\n",
              "    }\n",
              "\n",
              "    [theme=dark] .colab-df-convert {\n",
              "      background-color: #3B4455;\n",
              "      fill: #D2E3FC;\n",
              "    }\n",
              "\n",
              "    [theme=dark] .colab-df-convert:hover {\n",
              "      background-color: #434B5C;\n",
              "      box-shadow: 0px 1px 3px 1px rgba(0, 0, 0, 0.15);\n",
              "      filter: drop-shadow(0px 1px 2px rgba(0, 0, 0, 0.3));\n",
              "      fill: #FFFFFF;\n",
              "    }\n",
              "  </style>\n",
              "\n",
              "      <script>\n",
              "        const buttonEl =\n",
              "          document.querySelector('#df-cbbeeda9-1ca9-4909-834d-6128b4515c71 button.colab-df-convert');\n",
              "        buttonEl.style.display =\n",
              "          google.colab.kernel.accessAllowed ? 'block' : 'none';\n",
              "\n",
              "        async function convertToInteractive(key) {\n",
              "          const element = document.querySelector('#df-cbbeeda9-1ca9-4909-834d-6128b4515c71');\n",
              "          const dataTable =\n",
              "            await google.colab.kernel.invokeFunction('convertToInteractive',\n",
              "                                                     [key], {});\n",
              "          if (!dataTable) return;\n",
              "\n",
              "          const docLinkHtml = 'Like what you see? Visit the ' +\n",
              "            '<a target=\"_blank\" href=https://colab.research.google.com/notebooks/data_table.ipynb>data table notebook</a>'\n",
              "            + ' to learn more about interactive tables.';\n",
              "          element.innerHTML = '';\n",
              "          dataTable['output_type'] = 'display_data';\n",
              "          await google.colab.output.renderOutput(dataTable, element);\n",
              "          const docLink = document.createElement('div');\n",
              "          docLink.innerHTML = docLinkHtml;\n",
              "          element.appendChild(docLink);\n",
              "        }\n",
              "      </script>\n",
              "    </div>\n",
              "  </div>\n",
              "  "
            ]
          },
          "metadata": {},
          "execution_count": 182
        }
      ]
    },
    {
      "cell_type": "markdown",
      "source": [
        "데이터를 판다스 데이터 프레임으로 불러온 다음 확인한다. 중고차들의 연식, 판매 가격, 현재 가격, 주행 거리, 연료 타입 등의 정보가 있다.\n",
        "\n",
        "중고차의 판매 가격에 있어 각 요소가 어땠을 때 판매 가격이 책정되는지, 어떤 요소가 가장 영향을 미치는지 등을 분석해 중고차 가격 예측 모델을 만들어, 중고차 시장에서 고객과 판매자가 합리적인 가격으로 중고차를 거래할 수 있도록 한다.\n",
        "\n",
        "일반적으로 연식, 주행 거리, 현재 시세가 판매 가격에 가장 큰 영향을 끼치는 것으로 알고 있으며 또 어떤 요소가 판매 가격에 영향을 끼치는지 확인해본다.\n",
        "\n",
        "\n",
        "\n",
        "\n",
        "해당 데이터에 대한 도메인 지식\n",
        "\n",
        "Car_Name: 자동차의 모델명을 나타낸다. 이 변수는 자동차의 종류, 제조사, 성능 등과 관련된 정보를 담고 있을 수 있다.\n",
        "\n",
        "Year: 자동차의 제조 연도를 나타낸다. 이 변수는 자동차의 연식과 관련이 있으며, 일반적으로 오래된 자동차일수록 가치가 낮을 수 있다.\n",
        "\n",
        "Selling_Price: 중고차의 판매 가격을 나타낸다. 이 변수는 중고차의 시장 가치를 반영하며, 주요한 예측 대상 변수다.\n",
        "\n",
        "Present_Price: 현재 중고차의 시장 가격을 나타낸다. 이 변수는 중고차의 현재 가치를 반영하는 지표로 사용된다.\n",
        "\n",
        "Driven_kms: 자동차의 주행 거리를 나타낸다. 이 변수는 자동차의 운행 상태를 나타내는 중요한 지표로 사용된다.\n",
        "\n",
        "Fuel_Type: 자동차의 연료 종류를 나타낸다. 연료 종류는 \"Petrol\" (휘발유), \"Diesel\" (경유), \"CNG\" (압축 자연가스)이다.\n",
        "\n",
        "Selling_type: 중고차의 판매 유형을 나타낸다. \"Dealer\" (딜러 판매)와 \"Individual\" (개인 판매)으로 구분된다.\n",
        "\n",
        "Transmission: 자동차의 변속기 타입을 나타낸다. \"Manual\" (수동)과 \"Automatic\" (자동)으로 구분된다.\n",
        "\n",
        "Owner: 자동차의 소유자 수를 나타낸다. 이 값이 낮을수록 중고차의 가치가 높아질 수 있다."
      ],
      "metadata": {
        "id": "hqxK-xJX9I2t"
      }
    },
    {
      "cell_type": "code",
      "source": [
        "data.info()"
      ],
      "metadata": {
        "colab": {
          "base_uri": "https://localhost:8080/"
        },
        "id": "MqcU45E2nOnr",
        "outputId": "ad117a37-3bbe-4c7b-80fd-214d9143e4b3"
      },
      "execution_count": null,
      "outputs": [
        {
          "output_type": "stream",
          "name": "stdout",
          "text": [
            "<class 'pandas.core.frame.DataFrame'>\n",
            "RangeIndex: 301 entries, 0 to 300\n",
            "Data columns (total 9 columns):\n",
            " #   Column         Non-Null Count  Dtype  \n",
            "---  ------         --------------  -----  \n",
            " 0   Car_Name       301 non-null    object \n",
            " 1   Year           301 non-null    int64  \n",
            " 2   Selling_Price  301 non-null    float64\n",
            " 3   Present_Price  301 non-null    float64\n",
            " 4   Driven_kms     301 non-null    int64  \n",
            " 5   Fuel_Type      301 non-null    object \n",
            " 6   Selling_type   301 non-null    object \n",
            " 7   Transmission   301 non-null    object \n",
            " 8   Owner          301 non-null    int64  \n",
            "dtypes: float64(2), int64(3), object(4)\n",
            "memory usage: 21.3+ KB\n"
          ]
        }
      ]
    },
    {
      "cell_type": "markdown",
      "source": [
        "데이터 셋의 속성들이 결측값이 있는지, 데이터 타입이 어떤 것인지 알기 위해 info 함수를 사용했다."
      ],
      "metadata": {
        "id": "Q2NLLld1niD_"
      }
    },
    {
      "cell_type": "code",
      "source": [
        "# 범주형 데이터 변환\n",
        "data.replace({\"Fuel_Type\":{\"Petrol\":0,\"Diesel\":1,\"CNG\":2}},inplace=True)\n",
        "data.replace({\"Selling_type\":{\"Individual\":0,\"Dealer\":1}},inplace=True)\n",
        "data.replace({\"Transmission\":{\"Manual\":0,\"Automatic\":1}},inplace=True)"
      ],
      "metadata": {
        "id": "3qnrWLZWI5rK"
      },
      "execution_count": null,
      "outputs": []
    },
    {
      "cell_type": "markdown",
      "source": [
        "replace 함수를 이용해 문자열 형태의 범주형 데이터였던 연료 타입, 변속기 타입, 판매 타입을 숫자로 변환해준다."
      ],
      "metadata": {
        "id": "onSbrQ-2vynu"
      }
    },
    {
      "cell_type": "code",
      "source": [
        "# 상관계수 행렬\n",
        "data.corr(numeric_only=True)"
      ],
      "metadata": {
        "colab": {
          "base_uri": "https://localhost:8080/",
          "height": 300
        },
        "id": "CB80VmBv9GCE",
        "outputId": "72848a2b-e2c8-4c61-d9f0-77ff51355b74"
      },
      "execution_count": null,
      "outputs": [
        {
          "output_type": "execute_result",
          "data": {
            "text/plain": [
              "                   Year  Selling_Price  Present_Price  Driven_kms  Fuel_Type  \\\n",
              "Year           1.000000       0.236141      -0.047192   -0.524342   0.053643   \n",
              "Selling_Price  0.236141       1.000000       0.878914    0.029187   0.509467   \n",
              "Present_Price -0.047192       0.878914       1.000000    0.203618   0.440493   \n",
              "Driven_kms    -0.524342       0.029187       0.203618    1.000000   0.166801   \n",
              "Fuel_Type      0.053643       0.509467       0.440493    0.166801   1.000000   \n",
              "Selling_type   0.039896       0.550724       0.512121    0.101419   0.352415   \n",
              "Transmission  -0.000394       0.367128       0.348776    0.162510   0.080466   \n",
              "Owner         -0.182104      -0.088344       0.008058    0.089216  -0.055705   \n",
              "\n",
              "               Selling_type  Transmission     Owner  \n",
              "Year               0.039896     -0.000394 -0.182104  \n",
              "Selling_Price      0.550724      0.367128 -0.088344  \n",
              "Present_Price      0.512121      0.348776  0.008058  \n",
              "Driven_kms         0.101419      0.162510  0.089216  \n",
              "Fuel_Type          0.352415      0.080466 -0.055705  \n",
              "Selling_type       1.000000      0.063240 -0.124269  \n",
              "Transmission       0.063240      1.000000  0.050316  \n",
              "Owner             -0.124269      0.050316  1.000000  "
            ],
            "text/html": [
              "\n",
              "  <div id=\"df-1a2a1e53-182c-4dd5-aaf9-d04e9d0b7153\">\n",
              "    <div class=\"colab-df-container\">\n",
              "      <div>\n",
              "<style scoped>\n",
              "    .dataframe tbody tr th:only-of-type {\n",
              "        vertical-align: middle;\n",
              "    }\n",
              "\n",
              "    .dataframe tbody tr th {\n",
              "        vertical-align: top;\n",
              "    }\n",
              "\n",
              "    .dataframe thead th {\n",
              "        text-align: right;\n",
              "    }\n",
              "</style>\n",
              "<table border=\"1\" class=\"dataframe\">\n",
              "  <thead>\n",
              "    <tr style=\"text-align: right;\">\n",
              "      <th></th>\n",
              "      <th>Year</th>\n",
              "      <th>Selling_Price</th>\n",
              "      <th>Present_Price</th>\n",
              "      <th>Driven_kms</th>\n",
              "      <th>Fuel_Type</th>\n",
              "      <th>Selling_type</th>\n",
              "      <th>Transmission</th>\n",
              "      <th>Owner</th>\n",
              "    </tr>\n",
              "  </thead>\n",
              "  <tbody>\n",
              "    <tr>\n",
              "      <th>Year</th>\n",
              "      <td>1.000000</td>\n",
              "      <td>0.236141</td>\n",
              "      <td>-0.047192</td>\n",
              "      <td>-0.524342</td>\n",
              "      <td>0.053643</td>\n",
              "      <td>0.039896</td>\n",
              "      <td>-0.000394</td>\n",
              "      <td>-0.182104</td>\n",
              "    </tr>\n",
              "    <tr>\n",
              "      <th>Selling_Price</th>\n",
              "      <td>0.236141</td>\n",
              "      <td>1.000000</td>\n",
              "      <td>0.878914</td>\n",
              "      <td>0.029187</td>\n",
              "      <td>0.509467</td>\n",
              "      <td>0.550724</td>\n",
              "      <td>0.367128</td>\n",
              "      <td>-0.088344</td>\n",
              "    </tr>\n",
              "    <tr>\n",
              "      <th>Present_Price</th>\n",
              "      <td>-0.047192</td>\n",
              "      <td>0.878914</td>\n",
              "      <td>1.000000</td>\n",
              "      <td>0.203618</td>\n",
              "      <td>0.440493</td>\n",
              "      <td>0.512121</td>\n",
              "      <td>0.348776</td>\n",
              "      <td>0.008058</td>\n",
              "    </tr>\n",
              "    <tr>\n",
              "      <th>Driven_kms</th>\n",
              "      <td>-0.524342</td>\n",
              "      <td>0.029187</td>\n",
              "      <td>0.203618</td>\n",
              "      <td>1.000000</td>\n",
              "      <td>0.166801</td>\n",
              "      <td>0.101419</td>\n",
              "      <td>0.162510</td>\n",
              "      <td>0.089216</td>\n",
              "    </tr>\n",
              "    <tr>\n",
              "      <th>Fuel_Type</th>\n",
              "      <td>0.053643</td>\n",
              "      <td>0.509467</td>\n",
              "      <td>0.440493</td>\n",
              "      <td>0.166801</td>\n",
              "      <td>1.000000</td>\n",
              "      <td>0.352415</td>\n",
              "      <td>0.080466</td>\n",
              "      <td>-0.055705</td>\n",
              "    </tr>\n",
              "    <tr>\n",
              "      <th>Selling_type</th>\n",
              "      <td>0.039896</td>\n",
              "      <td>0.550724</td>\n",
              "      <td>0.512121</td>\n",
              "      <td>0.101419</td>\n",
              "      <td>0.352415</td>\n",
              "      <td>1.000000</td>\n",
              "      <td>0.063240</td>\n",
              "      <td>-0.124269</td>\n",
              "    </tr>\n",
              "    <tr>\n",
              "      <th>Transmission</th>\n",
              "      <td>-0.000394</td>\n",
              "      <td>0.367128</td>\n",
              "      <td>0.348776</td>\n",
              "      <td>0.162510</td>\n",
              "      <td>0.080466</td>\n",
              "      <td>0.063240</td>\n",
              "      <td>1.000000</td>\n",
              "      <td>0.050316</td>\n",
              "    </tr>\n",
              "    <tr>\n",
              "      <th>Owner</th>\n",
              "      <td>-0.182104</td>\n",
              "      <td>-0.088344</td>\n",
              "      <td>0.008058</td>\n",
              "      <td>0.089216</td>\n",
              "      <td>-0.055705</td>\n",
              "      <td>-0.124269</td>\n",
              "      <td>0.050316</td>\n",
              "      <td>1.000000</td>\n",
              "    </tr>\n",
              "  </tbody>\n",
              "</table>\n",
              "</div>\n",
              "      <button class=\"colab-df-convert\" onclick=\"convertToInteractive('df-1a2a1e53-182c-4dd5-aaf9-d04e9d0b7153')\"\n",
              "              title=\"Convert this dataframe to an interactive table.\"\n",
              "              style=\"display:none;\">\n",
              "        \n",
              "  <svg xmlns=\"http://www.w3.org/2000/svg\" height=\"24px\"viewBox=\"0 0 24 24\"\n",
              "       width=\"24px\">\n",
              "    <path d=\"M0 0h24v24H0V0z\" fill=\"none\"/>\n",
              "    <path d=\"M18.56 5.44l.94 2.06.94-2.06 2.06-.94-2.06-.94-.94-2.06-.94 2.06-2.06.94zm-11 1L8.5 8.5l.94-2.06 2.06-.94-2.06-.94L8.5 2.5l-.94 2.06-2.06.94zm10 10l.94 2.06.94-2.06 2.06-.94-2.06-.94-.94-2.06-.94 2.06-2.06.94z\"/><path d=\"M17.41 7.96l-1.37-1.37c-.4-.4-.92-.59-1.43-.59-.52 0-1.04.2-1.43.59L10.3 9.45l-7.72 7.72c-.78.78-.78 2.05 0 2.83L4 21.41c.39.39.9.59 1.41.59.51 0 1.02-.2 1.41-.59l7.78-7.78 2.81-2.81c.8-.78.8-2.07 0-2.86zM5.41 20L4 18.59l7.72-7.72 1.47 1.35L5.41 20z\"/>\n",
              "  </svg>\n",
              "      </button>\n",
              "      \n",
              "  <style>\n",
              "    .colab-df-container {\n",
              "      display:flex;\n",
              "      flex-wrap:wrap;\n",
              "      gap: 12px;\n",
              "    }\n",
              "\n",
              "    .colab-df-convert {\n",
              "      background-color: #E8F0FE;\n",
              "      border: none;\n",
              "      border-radius: 50%;\n",
              "      cursor: pointer;\n",
              "      display: none;\n",
              "      fill: #1967D2;\n",
              "      height: 32px;\n",
              "      padding: 0 0 0 0;\n",
              "      width: 32px;\n",
              "    }\n",
              "\n",
              "    .colab-df-convert:hover {\n",
              "      background-color: #E2EBFA;\n",
              "      box-shadow: 0px 1px 2px rgba(60, 64, 67, 0.3), 0px 1px 3px 1px rgba(60, 64, 67, 0.15);\n",
              "      fill: #174EA6;\n",
              "    }\n",
              "\n",
              "    [theme=dark] .colab-df-convert {\n",
              "      background-color: #3B4455;\n",
              "      fill: #D2E3FC;\n",
              "    }\n",
              "\n",
              "    [theme=dark] .colab-df-convert:hover {\n",
              "      background-color: #434B5C;\n",
              "      box-shadow: 0px 1px 3px 1px rgba(0, 0, 0, 0.15);\n",
              "      filter: drop-shadow(0px 1px 2px rgba(0, 0, 0, 0.3));\n",
              "      fill: #FFFFFF;\n",
              "    }\n",
              "  </style>\n",
              "\n",
              "      <script>\n",
              "        const buttonEl =\n",
              "          document.querySelector('#df-1a2a1e53-182c-4dd5-aaf9-d04e9d0b7153 button.colab-df-convert');\n",
              "        buttonEl.style.display =\n",
              "          google.colab.kernel.accessAllowed ? 'block' : 'none';\n",
              "\n",
              "        async function convertToInteractive(key) {\n",
              "          const element = document.querySelector('#df-1a2a1e53-182c-4dd5-aaf9-d04e9d0b7153');\n",
              "          const dataTable =\n",
              "            await google.colab.kernel.invokeFunction('convertToInteractive',\n",
              "                                                     [key], {});\n",
              "          if (!dataTable) return;\n",
              "\n",
              "          const docLinkHtml = 'Like what you see? Visit the ' +\n",
              "            '<a target=\"_blank\" href=https://colab.research.google.com/notebooks/data_table.ipynb>data table notebook</a>'\n",
              "            + ' to learn more about interactive tables.';\n",
              "          element.innerHTML = '';\n",
              "          dataTable['output_type'] = 'display_data';\n",
              "          await google.colab.output.renderOutput(dataTable, element);\n",
              "          const docLink = document.createElement('div');\n",
              "          docLink.innerHTML = docLinkHtml;\n",
              "          element.appendChild(docLink);\n",
              "        }\n",
              "      </script>\n",
              "    </div>\n",
              "  </div>\n",
              "  "
            ]
          },
          "metadata": {},
          "execution_count": 185
        }
      ]
    },
    {
      "cell_type": "markdown",
      "source": [
        "상관 계수를 통해 절대값이 큰 요소들을 실제로 판매 가격과 관련 있는지 시각화하여 분석하고 독립 변수로 채택한다."
      ],
      "metadata": {
        "id": "GGUs1Kcalh1A"
      }
    },
    {
      "cell_type": "code",
      "source": [
        "data.replace({\"Fuel_Type\": {0: \"Petrol\", 1: \"Diesel\", 2: \"CNG\"}}, inplace=True)\n",
        "data.replace({\"Selling_type\": {0: \"Individual\", 1: \"Dealer\"}}, inplace=True)\n",
        "data.replace({\"Transmission\": {0: \"Manual\", 1: \"Automatic\"}}, inplace=True)"
      ],
      "metadata": {
        "id": "BpaOnWURsdx-"
      },
      "execution_count": null,
      "outputs": []
    },
    {
      "cell_type": "markdown",
      "source": [
        "데이터 시각화를 위해 다시 범주형 데이터들을 원래대로 돌려놓았다."
      ],
      "metadata": {
        "id": "VaLcZCAosxRn"
      }
    },
    {
      "cell_type": "code",
      "source": [
        "# 연식에 따른 평균 판매 가격의 막대 그래프\n",
        "plt.figure(figsize=(10, 6))\n",
        "sns.barplot(data=data, x='Year', y='Selling_Price')\n",
        "plt.xlabel('Year')\n",
        "plt.ylabel('Mean Selling Price')\n",
        "plt.title('Mean Selling Price by Year')\n",
        "plt.show()"
      ],
      "metadata": {
        "colab": {
          "base_uri": "https://localhost:8080/",
          "height": 564
        },
        "id": "LEnKOdi0VupA",
        "outputId": "425eb461-aa51-436a-b6a5-08a6300db6b5"
      },
      "execution_count": null,
      "outputs": [
        {
          "output_type": "display_data",
          "data": {
            "text/plain": [
              "<Figure size 1000x600 with 1 Axes>"
            ],
            "image/png": "[encoded data removed]"
          },
          "metadata": {}
        }
      ]
    },
    {
      "cell_type": "markdown",
      "source": [
        "연식에 따른 평균적인 판매 가격을 시각화 한 것이다.\n",
        "\n",
        "연식에 따라 판매 가격에 유의미한 영향을 주므로 독립 변수로 채택한다.\n"
      ],
      "metadata": {
        "id": "zn7vWiBkltDn"
      }
    },
    {
      "cell_type": "code",
      "source": [
        "# 주행 거리와 판매 가격의 산점도\n",
        "plt.scatter(data['Driven_kms'], data['Selling_Price'])\n",
        "plt.xlabel('Driven_kms')\n",
        "plt.ylabel('Selling Price')\n",
        "plt.title('Driven Kms vs Selling Price')\n",
        "plt.show()"
      ],
      "metadata": {
        "colab": {
          "base_uri": "https://localhost:8080/",
          "height": 472
        },
        "id": "VyelAFwFHTWo",
        "outputId": "b64b2030-0954-4281-8ae5-7c03803e1930"
      },
      "execution_count": null,
      "outputs": [
        {
          "output_type": "display_data",
          "data": {
            "text/plain": [
              "<Figure size 640x480 with 1 Axes>"
            ],
            "image/png": "[encoded data removed]"
          },
          "metadata": {}
        }
      ]
    },
    {
      "cell_type": "markdown",
      "source": [
        "주행 거리에 따른 판매 가격을 시각화 한 것이다.\n",
        "\n",
        "이 데이터 셋에서는 주행 거리에 따른 판매 가격은 영향이 크지 않지만 일반적으로 중고차를 구입할 때 주행 거리는 중요한 요소이기 때문에 독립변수로 채택한다."
      ],
      "metadata": {
        "id": "Du_X5WsClx9k"
      }
    },
    {
      "cell_type": "code",
      "source": [
        "# 연료 타입에 따른 판매 가격의 박스 플롯\n",
        "seller_types = data['Fuel_Type'].unique()\n",
        "data_boxplot = [data[data['Fuel_Type'] == s]['Selling_Price'] for s in seller_types]\n",
        "plt.boxplot(data_boxplot, labels=seller_types)\n",
        "plt.xlabel('Fuel_Type')\n",
        "plt.ylabel('Selling Price')\n",
        "plt.title('Selling Price by Fuel Type')\n",
        "plt.show()"
      ],
      "metadata": {
        "colab": {
          "base_uri": "https://localhost:8080/",
          "height": 472
        },
        "id": "Jy_FuSH0HncI",
        "outputId": "27354eea-ab6b-47a6-cf11-b6b595871f8e"
      },
      "execution_count": null,
      "outputs": [
        {
          "output_type": "display_data",
          "data": {
            "text/plain": [
              "<Figure size 640x480 with 1 Axes>"
            ],
            "image/png": "[encoded data removed]"
          },
          "metadata": {}
        }
      ]
    },
    {
      "cell_type": "markdown",
      "source": [
        "연료 타입에 따른 판매 가격을 시각화 한 것이다.\n",
        "\n",
        "디젤이 가솔린에 비해 평균적으로 판매 가격이 높기 때문에 연료 타입이 영향이 있는 것으로 보며 독립 변수로 채택한다."
      ],
      "metadata": {
        "id": "FiMSgZGjpp1x"
      }
    },
    {
      "cell_type": "code",
      "source": [
        "# 판매 타입에 따른 판매 가격의 박스 플롯\n",
        "seller_types = data['Selling_type'].unique()\n",
        "data_boxplot = [data[data['Selling_type'] == s]['Selling_Price'] for s in seller_types]\n",
        "plt.boxplot(data_boxplot, labels=seller_types)\n",
        "plt.xlabel('Selling_type')\n",
        "plt.ylabel('Selling Price')\n",
        "plt.title('Selling Price by Selling Type')\n",
        "plt.show()"
      ],
      "metadata": {
        "colab": {
          "base_uri": "https://localhost:8080/",
          "height": 472
        },
        "id": "Ofpwq8p3tIPO",
        "outputId": "100b2eb9-2d19-42b8-f5c6-f65a82eb1938"
      },
      "execution_count": null,
      "outputs": [
        {
          "output_type": "display_data",
          "data": {
            "text/plain": [
              "<Figure size 640x480 with 1 Axes>"
            ],
            "image/png": "[encoded data removed]"
          },
          "metadata": {}
        }
      ]
    },
    {
      "cell_type": "markdown",
      "source": [
        "판매 타입에 따른 판매 가격을 시각화 한 것이다.\n",
        "\n",
        "개인보다 딜러가 판매하는 경우가 가격이 높기 때문에 독립 변수로 채택한다."
      ],
      "metadata": {
        "id": "buO5MaU_qTQa"
      }
    },
    {
      "cell_type": "code",
      "source": [
        "# 변속기 타입에 따른 판매 가격의 막대 그래프\n",
        "sns.barplot(data=data, x='Transmission', y='Selling_Price')\n",
        "plt.xlabel('Transmission')\n",
        "plt.ylabel('Mean Selling Price')\n",
        "plt.title('Mean Selling Price by Transmission')\n",
        "plt.show()"
      ],
      "metadata": {
        "colab": {
          "base_uri": "https://localhost:8080/",
          "height": 472
        },
        "id": "a3xNwRrCq8y1",
        "outputId": "1d8aba77-f939-4114-ab17-806453bf1b38"
      },
      "execution_count": null,
      "outputs": [
        {
          "output_type": "display_data",
          "data": {
            "text/plain": [
              "<Figure size 640x480 with 1 Axes>"
            ],
            "image/png": "[encoded data removed]"
          },
          "metadata": {}
        }
      ]
    },
    {
      "cell_type": "markdown",
      "source": [
        "변속기 종류에 따른 판매 가격을 시각화 한 것이다.\n",
        "\n",
        "수동보다 자동이 평균적으로 더 높은 가격을 보이므로 독립 변수로 채택한다."
      ],
      "metadata": {
        "id": "LTHSUA79rjgv"
      }
    },
    {
      "cell_type": "code",
      "source": [
        "# 범주형 데이터 변환\n",
        "data.replace({\"Fuel_Type\":{\"Petrol\":0,\"Diesel\":1,\"CNG\":2}},inplace=True)\n",
        "data.replace({\"Selling_type\":{\"Individual\":0,\"Dealer\":1}},inplace=True)\n",
        "data.replace({\"Transmission\":{\"Manual\":0,\"Automatic\":1}},inplace=True)"
      ],
      "metadata": {
        "id": "hdtFX92FsnTb"
      },
      "execution_count": null,
      "outputs": []
    },
    {
      "cell_type": "markdown",
      "source": [
        "예측 모델을 만들기 위해 범주형 데이터를 다시 숫자로 변환해준다."
      ],
      "metadata": {
        "id": "o3ueldOSs4en"
      }
    },
    {
      "cell_type": "code",
      "source": [
        "selected_features = ['Year', 'Driven_kms','Present_Price', 'Fuel_Type', 'Selling_type', 'Transmission']"
      ],
      "metadata": {
        "id": "iBMxRFjhsY9z"
      },
      "execution_count": null,
      "outputs": []
    },
    {
      "cell_type": "markdown",
      "source": [
        "데이터 분석을 통해 판매 가격을 책정하는 요소들을 독립 변수로서 채택했다.\n",
        "\n",
        "\n",
        "주행 거리는 상관계수가 낮게 나왔지만 일반적으로 중고차 판매 가격에 있어 영향을 주는 요소이기 때문에 추가했다."
      ],
      "metadata": {
        "id": "Y8m2puPDwHug"
      }
    },
    {
      "cell_type": "code",
      "source": [
        "x = data[selected_features]\n",
        "y = data['Selling_Price']"
      ],
      "metadata": {
        "id": "JC03zIl3sZHx"
      },
      "execution_count": null,
      "outputs": []
    },
    {
      "cell_type": "markdown",
      "source": [
        "출력 데이터(y)인 판매 가격을 예측하기 위해 입력 데이터(x)에 독립 변수들을 입력했다."
      ],
      "metadata": {
        "id": "UGADHfl2BnnN"
      }
    },
    {
      "cell_type": "code",
      "source": [
        "x_train, x_test, y_train, y_test = train_test_split(x, y, test_size=0.3, random_state=42)"
      ],
      "metadata": {
        "id": "2ubA_oxesYMw"
      },
      "execution_count": null,
      "outputs": []
    },
    {
      "cell_type": "markdown",
      "source": [
        "train_test_split 함수를 사용해 학습 데이터와 테스트 데이터를 나눠주었으며,\n",
        "test_size를 0.3로 설정해 전체 데이터의 30%를 테스트 데이터로 사용하도록 설정했다.\n",
        "또, 동일한 결과를 얻기 위해 random_state를 이용했다."
      ],
      "metadata": {
        "id": "sUBaxLeZCO_X"
      }
    },
    {
      "cell_type": "code",
      "source": [
        "model = LinearRegression()\n",
        "model.fit(x_train, y_train)"
      ],
      "metadata": {
        "colab": {
          "base_uri": "https://localhost:8080/",
          "height": 75
        },
        "id": "Cj4kM6pksYP6",
        "outputId": "c59dcafa-e9bb-42fc-f48b-727d0e651c1a"
      },
      "execution_count": null,
      "outputs": [
        {
          "output_type": "execute_result",
          "data": {
            "text/plain": [
              "LinearRegression()"
            ],
            "text/html": [
              "<style>#sk-container-id-13 {color: black;background-color: white;}#sk-container-id-13 pre{padding: 0;}#sk-container-id-13 div.sk-toggleable {background-color: white;}#sk-container-id-13 label.sk-toggleable__label {cursor: pointer;display: block;width: 100%;margin-bottom: 0;padding: 0.3em;box-sizing: border-box;text-align: center;}#sk-container-id-13 label.sk-toggleable__label-arrow:before {content: \"▸\";float: left;margin-right: 0.25em;color: #696969;}#sk-container-id-13 label.sk-toggleable__label-arrow:hover:before {color: black;}#sk-container-id-13 div.sk-estimator:hover label.sk-toggleable__label-arrow:before {color: black;}#sk-container-id-13 div.sk-toggleable__content {max-height: 0;max-width: 0;overflow: hidden;text-align: left;background-color: #f0f8ff;}#sk-container-id-13 div.sk-toggleable__content pre {margin: 0.2em;color: black;border-radius: 0.25em;background-color: #f0f8ff;}#sk-container-id-13 input.sk-toggleable__control:checked~div.sk-toggleable__content {max-height: 200px;max-width: 100%;overflow: auto;}#sk-container-id-13 input.sk-toggleable__control:checked~label.sk-toggleable__label-arrow:before {content: \"▾\";}#sk-container-id-13 div.sk-estimator input.sk-toggleable__control:checked~label.sk-toggleable__label {background-color: #d4ebff;}#sk-container-id-13 div.sk-label input.sk-toggleable__control:checked~label.sk-toggleable__label {background-color: #d4ebff;}#sk-container-id-13 input.sk-hidden--visually {border: 0;clip: rect(1px 1px 1px 1px);clip: rect(1px, 1px, 1px, 1px);height: 1px;margin: -1px;overflow: hidden;padding: 0;position: absolute;width: 1px;}#sk-container-id-13 div.sk-estimator {font-family: monospace;background-color: #f0f8ff;border: 1px dotted black;border-radius: 0.25em;box-sizing: border-box;margin-bottom: 0.5em;}#sk-container-id-13 div.sk-estimator:hover {background-color: #d4ebff;}#sk-container-id-13 div.sk-parallel-item::after {content: \"\";width: 100%;border-bottom: 1px solid gray;flex-grow: 1;}#sk-container-id-13 div.sk-label:hover label.sk-toggleable__label {background-color: #d4ebff;}#sk-container-id-13 div.sk-serial::before {content: \"\";position: absolute;border-left: 1px solid gray;box-sizing: border-box;top: 0;bottom: 0;left: 50%;z-index: 0;}#sk-container-id-13 div.sk-serial {display: flex;flex-direction: column;align-items: center;background-color: white;padding-right: 0.2em;padding-left: 0.2em;position: relative;}#sk-container-id-13 div.sk-item {position: relative;z-index: 1;}#sk-container-id-13 div.sk-parallel {display: flex;align-items: stretch;justify-content: center;background-color: white;position: relative;}#sk-container-id-13 div.sk-item::before, #sk-container-id-13 div.sk-parallel-item::before {content: \"\";position: absolute;border-left: 1px solid gray;box-sizing: border-box;top: 0;bottom: 0;left: 50%;z-index: -1;}#sk-container-id-13 div.sk-parallel-item {display: flex;flex-direction: column;z-index: 1;position: relative;background-color: white;}#sk-container-id-13 div.sk-parallel-item:first-child::after {align-self: flex-end;width: 50%;}#sk-container-id-13 div.sk-parallel-item:last-child::after {align-self: flex-start;width: 50%;}#sk-container-id-13 div.sk-parallel-item:only-child::after {width: 0;}#sk-container-id-13 div.sk-dashed-wrapped {border: 1px dashed gray;margin: 0 0.4em 0.5em 0.4em;box-sizing: border-box;padding-bottom: 0.4em;background-color: white;}#sk-container-id-13 div.sk-label label {font-family: monospace;font-weight: bold;display: inline-block;line-height: 1.2em;}#sk-container-id-13 div.sk-label-container {text-align: center;}#sk-container-id-13 div.sk-container {/* jupyter's `normalize.less` sets `[hidden] { display: none; }` but bootstrap.min.css set `[hidden] { display: none !important; }` so we also need the `!important` here to be able to override the default hidden behavior on the sphinx rendered scikit-learn.org. See: https://github.com/scikit-learn/scikit-learn/issues/21755 */display: inline-block !important;position: relative;}#sk-container-id-13 div.sk-text-repr-fallback {display: none;}</style><div id=\"sk-container-id-13\" class=\"sk-top-container\"><div class=\"sk-text-repr-fallback\"><pre>LinearRegression()</pre><b>In a Jupyter environment, please rerun this cell to show the HTML representation or trust the notebook. <br />On GitHub, the HTML representation is unable to render, please try loading this page with nbviewer.org.</b></div><div class=\"sk-container\" hidden><div class=\"sk-item\"><div class=\"sk-estimator sk-toggleable\"><input class=\"sk-toggleable__control sk-hidden--visually\" id=\"sk-estimator-id-13\" type=\"checkbox\" checked><label for=\"sk-estimator-id-13\" class=\"sk-toggleable__label sk-toggleable__label-arrow\">LinearRegression</label><div class=\"sk-toggleable__content\"><pre>LinearRegression()</pre></div></div></div></div></div>"
            ]
          },
          "metadata": {},
          "execution_count": 197
        }
      ]
    },
    {
      "cell_type": "markdown",
      "source": [
        "주어진 데이터를 통해 선형 회귀 모델을 생성했다."
      ],
      "metadata": {
        "id": "U4HgtFrjDo7F"
      }
    },
    {
      "cell_type": "code",
      "source": [
        "# 학습셋의 결정계수 계산\n",
        "y_train_pred = model.predict(x_train)\n",
        "train_r2 = r2_score(y_train, y_train_pred)\n",
        "\n",
        "# 테스트셋의 결정계수 계산\n",
        "y_test_pred = model.predict(x_test)\n",
        "test_r2 = r2_score(y_test, y_test_pred)\n",
        "\n",
        "print(\"Training set R-squared:\", train_r2)\n",
        "print(\"Test set R-squared:\", test_r2)"
      ],
      "metadata": {
        "colab": {
          "base_uri": "https://localhost:8080/"
        },
        "id": "FT9AXmMnjot0",
        "outputId": "a7da02a9-7522-4d30-9c09-9313f325f774"
      },
      "execution_count": null,
      "outputs": [
        {
          "output_type": "stream",
          "name": "stdout",
          "text": [
            "Training set R-squared: 0.8724217542305057\n",
            "Test set R-squared: 0.8815657564160139\n"
          ]
        }
      ]
    },
    {
      "cell_type": "code",
      "source": [
        "# 학습 데이터에 대한 예측 결과 계산\n",
        "train_pred = model.predict(x_train)\n",
        "train_mse = mean_squared_error(y_train, train_pred)\n",
        "\n",
        "# 테스트 데이터에 대한 예측 결과 계산\n",
        "test_pred = model.predict(x_test)\n",
        "test_mse = mean_squared_error(y_test, test_pred)\n",
        "\n",
        "print(\"Training set MSE:\", train_mse)\n",
        "print(\"Test set MSE:\", test_mse)"
      ],
      "metadata": {
        "colab": {
          "base_uri": "https://localhost:8080/"
        },
        "id": "oSjiYOsWkpIi",
        "outputId": "0594a498-1a2c-4784-d512-281d8f3b5418"
      },
      "execution_count": null,
      "outputs": [
        {
          "output_type": "stream",
          "name": "stdout",
          "text": [
            "Training set MSE: 3.131106470582683\n",
            "Test set MSE: 3.3723204073083797\n"
          ]
        }
      ]
    },
    {
      "cell_type": "markdown",
      "source": [
        "예측 모델의 성능을 평가하기 위해 평균 제곱 오차와 결정 계수를 구했다.\n",
        "\n",
        "학습셋과 테스트셋의 평균 제곱 오차와 결정 계수 차이가 적은 것을 볼 수 있으며, 모델의 과적합 가능성이 낮다고 볼 수 있다."
      ],
      "metadata": {
        "id": "q0F2w_kADwDD"
      }
    },
    {
      "cell_type": "code",
      "source": [
        "# 실제 판매 가격과 예측한 판매 가격의 산점도\n",
        "y_train_pred = model.predict(x_train)\n",
        "\n",
        "plt.scatter(y_train, y_train_pred)\n",
        "plt.xlabel('Actual Selling Price')\n",
        "plt.ylabel('Predicted Selling Price')\n",
        "plt.title('Actual vs Predicted Selling Price')\n",
        "plt.show()"
      ],
      "metadata": {
        "colab": {
          "base_uri": "https://localhost:8080/",
          "height": 472
        },
        "id": "9mp9XCwBupsh",
        "outputId": "af3be1b1-33ab-40af-cad7-5171ca52cdcc"
      },
      "execution_count": null,
      "outputs": [
        {
          "output_type": "display_data",
          "data": {
            "text/plain": [
              "<Figure size 640x480 with 1 Axes>"
            ],
            "image/png": "[encoded data removed]"
          },
          "metadata": {}
        }
      ]
    },
    {
      "cell_type": "markdown",
      "source": [
        "생성한 선형 회귀 모델의 학습 데이터를 기반으로 실제 판매 가격과 예측한 판매 가격을 비교한 것을 산점도로 나타내었다.\n"
      ],
      "metadata": {
        "id": "C0RAjalISECv"
      }
    },
    {
      "cell_type": "code",
      "source": [
        "# 테스트 데이터 예측 선 그래프\n",
        "y_actual = y_test  # 실제 판매 가격 데이터\n",
        "\n",
        "# 예측 판매 가격\n",
        "y_pred = model.predict(x_test)  # 예측 판매 가격 데이터\n",
        "\n",
        "# 산점도 그리기\n",
        "plt.scatter(y_actual, y_pred)\n",
        "plt.xlabel('Actual Selling Price')\n",
        "plt.ylabel('Predicted Selling Price')\n",
        "plt.title('Actual vs Predicted Selling Price with Pred.Line')\n",
        "plt.plot([min(y_actual), max(y_actual)], [min(y_actual), max(y_actual)], color='red')\n",
        "plt.show()"
      ],
      "metadata": {
        "colab": {
          "base_uri": "https://localhost:8080/",
          "height": 472
        },
        "id": "NZT8oeFQ4Mms",
        "outputId": "e02e4af4-c795-42be-f328-f34ec199e512"
      },
      "execution_count": null,
      "outputs": [
        {
          "output_type": "display_data",
          "data": {
            "text/plain": [
              "<Figure size 640x480 with 1 Axes>"
            ],
            "image/png": "[encoded data removed]"
          },
          "metadata": {}
        }
      ]
    },
    {
      "cell_type": "markdown",
      "source": [
        "테스트 데이터들의 실제 가격과 예측 가격 산점도에 예측 선을 그려 시각화했다."
      ],
      "metadata": {
        "id": "xUWTkWwm6B0q"
      }
    },
    {
      "cell_type": "markdown",
      "source": [
        "모델 해석 및 결론.\n",
        "\n",
        "현재 가격이 높고 딜러가 판매, 디젤 타입, 자동 변속기, 최신 연식인 차량이 대부분 높은 판매 가격을 보였다.\n",
        "\n",
        "이 데이터셋에서 판매 가격에 가장 큰 영향을 끼치는 독립 변수는 현재 가격이다.\n",
        "\n",
        "우리가 흔히 알고 있는 지식으론 주행 거리가 중고차의 가격을 정하는데 있어서 큰 영향을 끼치지만 이 데이터셋에서는 유의미할 정도로 큰 차이를 주지는 않았다. 때문에 주행 거리와 판매 가격에 대한 상관성을 보이기 위해 더 많은 데이터가 필요하다고 생각한다."
      ],
      "metadata": {
        "id": "8efRA8cNSujQ"
      }
    }
  ]
}